{
  "nbformat": 4,
  "nbformat_minor": 0,
  "metadata": {
    "colab": {
      "provenance": []
    },
    "kernelspec": {
      "name": "python3",
      "display_name": "Python 3"
    },
    "language_info": {
      "name": "python"
    }
  },
  "cells": [
    {
      "cell_type": "code",
      "execution_count": null,
      "metadata": {
        "id": "A66iDxycqcv1"
      },
      "outputs": [],
      "source": [
        "!pip install marllib==0.8.1"
      ]
    },
    {
      "cell_type": "code",
      "source": [
        "from marllib import marl"
      ],
      "metadata": {
        "id": "aP7hpAIDknYH"
      },
      "execution_count": null,
      "outputs": []
    },
    {
      "cell_type": "markdown",
      "source": [
        "--------------------------------------------------------------------\n",
        "## available env-map pairs\n",
        "- smac: (https://github.com/oxwhirl/smac/blob/master/smac/env/starcraft2/maps/smac_maps.py)\n",
        "- mpe: (https://github.com/Replicable-MARL/MARLlib/blob/main/envs/base_env/mpe.py)\n",
        "- mamujoco: (https://github.com/Replicable-MARL/MARLlib/blob/main/envs/base_env/mamujoco.py)\n",
        "- football: (https://github.com/Replicable-MARL/MARLlib/blob/main/envs/base_env/football.py)\n",
        "- magent: (https://github.com/Replicable-MARL/MARLlib/blob/main/envs/base_env/magent.py)\n",
        "- lbf: use (https://github.com/Replicable-MARL/MARLlib/blob/main/envs/base_env/config/lbf.yaml) to generate the map.\n",
        "Details can be found https://github.com/semitable/lb-foraging#usage\n",
        "- rware: use (https://github.com/Replicable-MARL/MARLlib/blob/main/envs/base_env/config/rware.yaml) to generate the map.\n",
        "Details can be found https://github.com/semitable/robotic-warehouse#naming-scheme\n",
        "- pommerman: OneVsOne-v0, PommeFFACompetition-v0, PommeTeamCompetition-v0\n",
        "- metadrive: Bottleneck, ParkingLot, Intersection, Roundabout, Tollgate\n",
        "- hanabi: Hanabi-Very-Small, Hanabi-Full, Hanabi-Full-Minimal, Hanabi-Small"
      ],
      "metadata": {
        "id": "R_OemXPzjXE_"
      }
    },
    {
      "cell_type": "code",
      "source": [
        "# prepare the environment\n",
        "env = marl.make_env(environment_name=\"mpe\", map_name=\"simple_spread\")\n",
        "# can add extra env params. remember to check env configuration before use\n",
        "# env = marl.make_env(environment_name='mpe', map_name='simple_spread', continuous_actions=False, max_cycles=25)"
      ],
      "metadata": {
        "id": "f7XVJ9VGCr0n"
      },
      "execution_count": null,
      "outputs": []
    },
    {
      "cell_type": "markdown",
      "source": [
        "--------------------------------------------------------------------------------\n",
        "\n",
        "## available algorithms\n",
        "- iql pg a2c ddpg trpo ppo\n",
        "- maa2c coma maddpg matrpo mappo hatrpo happo\n",
        "- vdn qmix facmac vda2c vdppo"
      ],
      "metadata": {
        "id": "Br0l_j1TkNdX"
      }
    },
    {
      "cell_type": "code",
      "source": [
        "# initialize algorithm and load hyperparameters\n",
        "mappo = marl.algos.mappo(hyperparam_source='common')\n",
        "# can add extra algorithm params. remember to check algo hyperparams before use\n",
        "# mappo = marl.algos.MAPPO(hyperparam_source='common', use_gae=True,  batch_episode=10, kl_coeff=0.2, num_sgd_iter=3)"
      ],
      "metadata": {
        "id": "havaQ3lzjE5z"
      },
      "execution_count": null,
      "outputs": []
    },
    {
      "cell_type": "markdown",
      "source": [
        "## start learning + extra experiment settings if needed. "
      ],
      "metadata": {
        "id": "MMk0TStJkYGC"
      }
    },
    {
      "cell_type": "code",
      "source": [
        "# better check ray.yaml\n",
        "mappo.fit(env, stop={'episode_reward_mean': 100, 'timesteps_total': 10000}, local_mode=True, num_gpus=0,\n",
        "          num_workers=1, share_policy='all', checkpoint_freq=5)"
      ],
      "metadata": {
        "colab": {
          "base_uri": "https://localhost:8080/"
        },
        "id": "ovmztY-FkGjd",
        "outputId": "5b8a6a26-94af-4a1f-8ca3-ae9f39655cd4"
      },
      "execution_count": null,
      "outputs": [
        {
          "output_type": "stream",
          "name": "stdout",
          "text": [
            "+------------+----------------+----------------------------------------------------------------------+-------------------------------------+----------------------------+\n",
            "| Env_Name   | Check_Status   | Error_Log                                                            | Config_File_Location                | Env_File_Location          |\n",
            "+============+================+======================================================================+=====================================+============================+\n",
            "| mpe        | Ready          | Null                                                                 | envs/base_env/config/mpe.yaml       | envs/base_env/mpe.py       |\n",
            "+------------+----------------+----------------------------------------------------------------------+-------------------------------------+----------------------------+\n",
            "| mamujoco   | Error          | No module named 'multiagent_mujoco'                                  | envs/base_env/config/mamujoco.yaml  | envs/base_env/mamujoco.py  |\n",
            "+------------+----------------+----------------------------------------------------------------------+-------------------------------------+----------------------------+\n",
            "| smac       | Error          | No module named 'smac'                                               | envs/base_env/config/smac.yaml      | envs/base_env/smac.py      |\n",
            "+------------+----------------+----------------------------------------------------------------------+-------------------------------------+----------------------------+\n",
            "| football   | Error          | No module named 'gfootball'                                          | envs/base_env/config/football.yaml  | envs/base_env/football.py  |\n",
            "+------------+----------------+----------------------------------------------------------------------+-------------------------------------+----------------------------+\n",
            "| magent     | Error          | cannot import name 'adversarial_pursuit_v3' from 'pettingzoo.magent' | envs/base_env/config/magent.yaml    | envs/base_env/magent.py    |\n",
            "+------------+----------------+----------------------------------------------------------------------+-------------------------------------+----------------------------+\n",
            "| rware      | Error          | No module named 'rware'                                              | envs/base_env/config/rware.yaml     | envs/base_env/rware.py     |\n",
            "+------------+----------------+----------------------------------------------------------------------+-------------------------------------+----------------------------+\n",
            "| lbf        | Error          | No module named 'lbforaging'                                         | envs/base_env/config/lbf.yaml       | envs/base_env/lbf.py       |\n",
            "+------------+----------------+----------------------------------------------------------------------+-------------------------------------+----------------------------+\n",
            "| pommerman  | Error          | No module named 'pommerman'                                          | envs/base_env/config/pommerman.yaml | envs/base_env/pommerman.py |\n",
            "+------------+----------------+----------------------------------------------------------------------+-------------------------------------+----------------------------+\n",
            "| hanabi     | Error          | No module named 'patch'                                              | envs/base_env/config/hanabi.yaml    | envs/base_env/hanabi.py    |\n",
            "+------------+----------------+----------------------------------------------------------------------+-------------------------------------+----------------------------+\n",
            "| metadrive  | Error          | No module named 'metadrive'                                          | envs/base_env/config/metadrive.yaml | envs/base_env/metadrive.py |\n",
            "+------------+----------------+----------------------------------------------------------------------+-------------------------------------+----------------------------+\n",
            "use fc encoder\n",
            ":task_name:bundle_reservation_check_func\n",
            ":actor_name:MAPPOTrainer\n"
          ]
        },
        {
          "output_type": "stream",
          "name": "stderr",
          "text": [
            "/usr/local/lib/python3.8/dist-packages/pettingzoo/utils/wrappers/base.py:59: UserWarning: The `action_spaces` dictionary is deprecated. Use the `action_space` function instead.\n",
            "  warnings.warn(\"The `action_spaces` dictionary is deprecated. Use the `action_space` function instead.\")\n",
            "/usr/local/lib/python3.8/dist-packages/pettingzoo/utils/wrappers/base.py:51: UserWarning: The `observation_spaces` dictionary is deprecated. Use the `observation_space` function instead.\n",
            "  warnings.warn(\"The `observation_spaces` dictionary is deprecated. Use the `observation_space` function instead.\")\n",
            "/usr/local/lib/python3.8/dist-packages/pettingzoo/utils/conversions.py:61: UserWarning: The `observation_spaces` dictionary is deprecated. Use the `observation_space` function instead.\n",
            "  warnings.warn(\"The `observation_spaces` dictionary is deprecated. Use the `observation_space` function instead.\")\n",
            "/usr/local/lib/python3.8/dist-packages/pettingzoo/utils/conversions.py:69: UserWarning: The `action_spaces` dictionary is deprecated. Use the `action_space` function instead.\n",
            "  warnings.warn(\"The `action_spaces` dictionary is deprecated. Use the `action_space` function instead.\")\n",
            "2023-02-15 05:51:30,909\tWARNING deprecation.py:38 -- DeprecationWarning: `simple_optimizer` has been deprecated. This will raise an error in the future!\n",
            "2023-02-15 05:51:30,912\tWARNING ppo.py:143 -- `train_batch_size` (250) cannot be achieved with your other settings (num_workers=1 num_envs_per_worker=1 rollout_fragment_length=200)! Auto-adjusting `rollout_fragment_length` to 250.\n",
            "2023-02-15 05:51:31,065\tWARNING trainer_template.py:185 -- `execution_plan` functions should accept `trainer`, `workers`, and `config` as args!\n",
            "2023-02-15 05:51:31,068\tWARNING deprecation.py:38 -- DeprecationWarning: `simple_optimizer` has been deprecated. This will raise an error in the future!\n",
            "/usr/local/lib/python3.8/dist-packages/pettingzoo/utils/wrappers/base.py:59: UserWarning: The `action_spaces` dictionary is deprecated. Use the `action_space` function instead.\n",
            "  warnings.warn(\"The `action_spaces` dictionary is deprecated. Use the `action_space` function instead.\")\n",
            "/usr/local/lib/python3.8/dist-packages/pettingzoo/utils/wrappers/base.py:51: UserWarning: The `observation_spaces` dictionary is deprecated. Use the `observation_space` function instead.\n",
            "  warnings.warn(\"The `observation_spaces` dictionary is deprecated. Use the `observation_space` function instead.\")\n",
            "/usr/local/lib/python3.8/dist-packages/pettingzoo/utils/conversions.py:61: UserWarning: The `observation_spaces` dictionary is deprecated. Use the `observation_space` function instead.\n",
            "  warnings.warn(\"The `observation_spaces` dictionary is deprecated. Use the `observation_space` function instead.\")\n",
            "/usr/local/lib/python3.8/dist-packages/pettingzoo/utils/conversions.py:69: UserWarning: The `action_spaces` dictionary is deprecated. Use the `action_space` function instead.\n",
            "  warnings.warn(\"The `action_spaces` dictionary is deprecated. Use the `action_space` function instead.\")\n",
            "2023-02-15 05:51:31,097\tWARNING util.py:57 -- Install gputil for GPU system monitoring.\n"
          ]
        },
        {
          "output_type": "stream",
          "name": "stdout",
          "text": [
            ":actor_name:RolloutWorker\n",
            ":actor_name:MAPPOTrainer\n"
          ]
        },
        {
          "output_type": "stream",
          "name": "stderr",
          "text": [
            "2023-02-15 05:51:33,198\tWARNING util.py:165 -- The `start_trial` operation took 2.353 s, which may be a performance bottleneck.\n"
          ]
        },
        {
          "output_type": "stream",
          "name": "stdout",
          "text": [
            "== Status ==\n",
            "Current time: 2023-02-15 05:51:33 (running for 00:00:02.49)\n",
            "Memory usage on this node: 1.5/12.7 GiB\n",
            "Using FIFO scheduling algorithm.\n",
            "Resources requested: 2.0/2 CPUs, 0/0 GPUs, 0.0/7.03 GiB heap, 0.0/3.52 GiB objects\n",
            "Result logdir: /root/ray_results/mappo_gru_simple_spread\n",
            "Number of trials: 1/1 (1 RUNNING)\n",
            "\n",
            "\n",
            "== Status ==\n",
            "Current time: 2023-02-15 05:51:39 (running for 00:00:08.44)\n",
            "Memory usage on this node: 1.5/12.7 GiB\n",
            "Using FIFO scheduling algorithm.\n",
            "Resources requested: 2.0/2 CPUs, 0/0 GPUs, 0.0/7.03 GiB heap, 0.0/3.52 GiB objects\n",
            "Result logdir: /root/ray_results/mappo_gru_simple_spread\n",
            "Number of trials: 1/1 (1 RUNNING)\n",
            "\n",
            "\n",
            "== Status ==\n",
            "Current time: 2023-02-15 05:51:45 (running for 00:00:14.94)\n",
            "Memory usage on this node: 1.5/12.7 GiB\n",
            "Using FIFO scheduling algorithm.\n",
            "Resources requested: 2.0/2 CPUs, 0/0 GPUs, 0.0/7.03 GiB heap, 0.0/3.52 GiB objects\n",
            "Result logdir: /root/ray_results/mappo_gru_simple_spread\n",
            "Number of trials: 1/1 (1 RUNNING)\n",
            "\n",
            "\n",
            "== Status ==\n",
            "Current time: 2023-02-15 05:51:51 (running for 00:00:20.64)\n",
            "Memory usage on this node: 1.6/12.7 GiB\n",
            "Using FIFO scheduling algorithm.\n",
            "Resources requested: 2.0/2 CPUs, 0/0 GPUs, 0.0/7.03 GiB heap, 0.0/3.52 GiB objects\n",
            "Result logdir: /root/ray_results/mappo_gru_simple_spread\n",
            "Number of trials: 1/1 (1 RUNNING)\n",
            "\n",
            "\n",
            "== Status ==\n",
            "Current time: 2023-02-15 05:51:57 (running for 00:00:26.74)\n",
            "Memory usage on this node: 1.6/12.7 GiB\n",
            "Using FIFO scheduling algorithm.\n",
            "Resources requested: 2.0/2 CPUs, 0/0 GPUs, 0.0/7.03 GiB heap, 0.0/3.52 GiB objects\n",
            "Result logdir: /root/ray_results/mappo_gru_simple_spread\n",
            "Number of trials: 1/1 (1 RUNNING)\n",
            "\n",
            "\n",
            "== Status ==\n",
            "Current time: 2023-02-15 05:52:03 (running for 00:00:33.24)\n",
            "Memory usage on this node: 1.6/12.7 GiB\n",
            "Using FIFO scheduling algorithm.\n",
            "Resources requested: 2.0/2 CPUs, 0/0 GPUs, 0.0/7.03 GiB heap, 0.0/3.52 GiB objects\n",
            "Result logdir: /root/ray_results/mappo_gru_simple_spread\n",
            "Number of trials: 1/1 (1 RUNNING)\n",
            "\n",
            "\n",
            "== Status ==\n",
            "Current time: 2023-02-15 05:52:10 (running for 00:00:40.24)\n",
            "Memory usage on this node: 1.6/12.7 GiB\n",
            "Using FIFO scheduling algorithm.\n",
            "Resources requested: 2.0/2 CPUs, 0/0 GPUs, 0.0/7.03 GiB heap, 0.0/3.52 GiB objects\n",
            "Result logdir: /root/ray_results/mappo_gru_simple_spread\n",
            "Number of trials: 1/1 (1 RUNNING)\n",
            "\n",
            "\n",
            "== Status ==\n",
            "Current time: 2023-02-15 05:52:17 (running for 00:00:46.29)\n",
            "Memory usage on this node: 1.6/12.7 GiB\n",
            "Using FIFO scheduling algorithm.\n",
            "Resources requested: 2.0/2 CPUs, 0/0 GPUs, 0.0/7.03 GiB heap, 0.0/3.52 GiB objects\n",
            "Result logdir: /root/ray_results/mappo_gru_simple_spread\n",
            "Number of trials: 1/1 (1 RUNNING)\n",
            "\n",
            "\n",
            "== Status ==\n",
            "Current time: 2023-02-15 05:52:23 (running for 00:00:52.57)\n",
            "Memory usage on this node: 1.6/12.7 GiB\n",
            "Using FIFO scheduling algorithm.\n",
            "Resources requested: 2.0/2 CPUs, 0/0 GPUs, 0.0/7.03 GiB heap, 0.0/3.52 GiB objects\n",
            "Result logdir: /root/ray_results/mappo_gru_simple_spread\n",
            "Number of trials: 1/1 (1 RUNNING)\n",
            "\n",
            "\n",
            "== Status ==\n",
            "Current time: 2023-02-15 05:52:30 (running for 00:00:59.76)\n",
            "Memory usage on this node: 1.6/12.7 GiB\n",
            "Using FIFO scheduling algorithm.\n",
            "Resources requested: 2.0/2 CPUs, 0/0 GPUs, 0.0/7.03 GiB heap, 0.0/3.52 GiB objects\n",
            "Result logdir: /root/ray_results/mappo_gru_simple_spread\n",
            "Number of trials: 1/1 (1 RUNNING)\n",
            "\n",
            "\n"
          ]
        },
        {
          "output_type": "stream",
          "name": "stderr",
          "text": [
            "2023-02-15 05:52:34,575\tWARNING tune.py:586 -- SIGINT received (e.g. via Ctrl+C), ending Ray Tune run. This will try to checkpoint the experiment state one last time. Press CTRL+C one more time (or send SIGINT/SIGKILL/SIGTERM) to skip. \n"
          ]
        },
        {
          "output_type": "stream",
          "name": "stdout",
          "text": [
            "== Status ==\n",
            "Current time: 2023-02-15 05:52:34 (running for 00:01:04.15)\n",
            "Memory usage on this node: 1.6/12.7 GiB\n",
            "Using FIFO scheduling algorithm.\n",
            "Resources requested: 2.0/2 CPUs, 0/0 GPUs, 0.0/7.03 GiB heap, 0.0/3.52 GiB objects\n",
            "Result logdir: /root/ray_results/mappo_gru_simple_spread\n",
            "Number of trials: 1/1 (1 RUNNING)\n",
            "\n",
            "\n"
          ]
        },
        {
          "output_type": "stream",
          "name": "stderr",
          "text": [
            "2023-02-15 05:52:35,078\tERROR tune.py:626 -- Trials did not complete: [MAPPOTrainer_mpe_simple_spread_cba92_00000]\n",
            "2023-02-15 05:52:35,081\tINFO tune.py:630 -- Total run time: 64.37 seconds (64.04 seconds for the tuning loop).\n",
            "2023-02-15 05:52:35,084\tWARNING tune.py:634 -- Experiment has been interrupted, but the most recent state was saved. You can continue running this experiment by passing `resume=True` to `tune.run()`\n"
          ]
        }
      ]
    }
  ]
}